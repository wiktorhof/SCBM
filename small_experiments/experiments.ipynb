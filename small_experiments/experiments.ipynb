{
 "cells": [
  {
   "cell_type": "code",
   "execution_count": 50,
   "id": "ffaec540",
   "metadata": {},
   "outputs": [],
   "source": [
    "import time\n",
    "import uuid\n",
    "from itertools import product\n",
    "from pathlib import Path"
   ]
  },
  {
   "cell_type": "code",
   "execution_count": null,
   "id": "c861e792",
   "metadata": {},
   "outputs": [
    {
     "name": "stdout",
     "output_type": "stream",
     "text": [
      "20250716-111409_6ef8a\n"
     ]
    }
   ],
   "source": [
    "timestr = time.strftime(\"%Y%m%d-%H%M%S\")\n",
    "ex_name = f\"{timestr}_{uuid.uuid4().hex[:5]}\"\n",
    "print(ex_name)"
   ]
  },
  {
   "cell_type": "code",
   "execution_count": null,
   "id": "a834368b",
   "metadata": {},
   "outputs": [
    {
     "name": "stdout",
     "output_type": "stream",
     "text": [
      "20250716-111409_27c0d\n"
     ]
    }
   ],
   "source": [
    "\n",
    "print(ex_name)"
   ]
  },
  {
   "cell_type": "code",
   "execution_count": 54,
   "id": "dccfaf62",
   "metadata": {},
   "outputs": [
    {
     "name": "stdout",
     "output_type": "stream",
     "text": [
      "All hyperparameters combinations: [('step', 0.001, 0), ('step', 0.001, 0.001), ('step', 0.001, 0.01), ('step', 0.0001, 0), ('step', 0.0001, 0.001), ('step', 0.0001, 0.01), ('step', 1e-05, 0), ('step', 1e-05, 0.001), ('step', 1e-05, 0.01), ('cosine', 0.001, 0), ('cosine', 0.001, 0.001), ('cosine', 0.001, 0.01), ('cosine', 0.0001, 0), ('cosine', 0.0001, 0.001), ('cosine', 0.0001, 0.01), ('cosine', 1e-05, 0), ('cosine', 1e-05, 0.001), ('cosine', 1e-05, 0.01)]\n"
     ]
    }
   ],
   "source": [
    "learning_rates = [0.001, 0.0001, 0.00001]\n",
    "weight_decays = [0, 0.001, 0.01]\n",
    "lr_schedulers = [\"step\", \"cosine\"]\n",
    "\n",
    "all_hyperparams = list(product(\n",
    "    lr_schedulers,\n",
    "    learning_rates,\n",
    "    weight_decays,\n",
    "))\n",
    "\n",
    "print(\"All hyperparameters combinations:\", all_hyperparams)"
   ]
  }
 ],
 "metadata": {
  "kernelspec": {
   "display_name": "scbm",
   "language": "python",
   "name": "python3"
  },
  "language_info": {
   "codemirror_mode": {
    "name": "ipython",
    "version": 3
   },
   "file_extension": ".py",
   "mimetype": "text/x-python",
   "name": "python",
   "nbconvert_exporter": "python",
   "pygments_lexer": "ipython3",
   "version": "3.11.13"
  }
 },
 "nbformat": 4,
 "nbformat_minor": 5
}
